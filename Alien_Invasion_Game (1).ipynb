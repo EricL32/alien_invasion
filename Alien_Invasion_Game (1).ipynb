{
 "cells": [
  {
   "cell_type": "markdown",
   "id": "dea3885e",
   "metadata": {},
   "source": [
    "# EW200 (S4341): Introduction to programming\n",
    "\n",
    "# Lab 07 : Alien Invasion Game\n",
    "This notebook provides the step by step instructions to the alien invasion game from your book. As you type your codes, you can use this notebook to doubloe check for possible spelling errors. You must use pycharm to implement your code and not Jypyter Notebook.\n",
    "![](https://programmerclick.com/images/600/2a9afeb7df23929bafa7b870defb7b40.png)"
   ]
  },
  {
   "cell_type": "markdown",
   "id": "562b74f6",
   "metadata": {},
   "source": [
    "## Installing pygame\n",
    "- To install pygame type `pip install pygame` at the anaconda command prompt\n",
    "\n",
    "- To upgrade pygame type `pip install pygame --upgrade` at the anaconda command prompt\n",
    "\n",
    "- To clear output in jupyter notebook `clear_output(wait=True)`"
   ]
  },
  {
   "cell_type": "markdown",
   "id": "143a9dec",
   "metadata": {},
   "source": [
    "## Part I: Starting the game project"
   ]
  },
  {
   "cell_type": "markdown",
   "id": "f1704ba9",
   "metadata": {},
   "source": [
    "### Main class Alien Invasion: "
   ]
  },
  {
   "cell_type": "code",
   "execution_count": null,
   "id": "e4843465",
   "metadata": {},
   "outputs": [],
   "source": [
    "import sys\n",
    "\n",
    "import pygame\n",
    "\n",
    "from settings import Settings\n",
    "\n",
    "class AlienInvasion:\n",
    "    \"\"\"Overall class to manage game assets and behavior.\"\"\"\n",
    "\n",
    "    def __init__(self):\n",
    "        \"\"\"Initialize the game, and create game resources.\"\"\"\n",
    "        pygame.init()\n",
    "        self.settings = Settings()\n",
    "\n",
    "        self.screen = pygame.display.set_mode(\n",
    "            (self.settings.screen_width, self.settings.screen_height))\n",
    "        pygame.display.set_caption(\"Alien Invasion\")\n",
    "\n",
    "\n",
    "    def run_game(self):\n",
    "        \"\"\"Start the main loop for the game.\"\"\"\n",
    "        while True:\n",
    "            # Watch for keyboard and mouse events.\n",
    "            for event in pygame.event.get():\n",
    "                if event.type == pygame.QUIT:\n",
    "                    sys.exit()\n",
    "\n",
    "            # Redraw the screen during each pass through the loop.\n",
    "            self.screen.fill(self.settings.bg_color)\n",
    "\n",
    "            # Make the most recently drawn screen visible.\n",
    "            pygame.display.flip()\n",
    "\n",
    "if __name__ == '__main__':\n",
    "    # Make a game instance, and run the game.\n",
    "    ai = AlienInvasion()\n",
    "    ai.run_game()\n"
   ]
  },
  {
   "cell_type": "markdown",
   "id": "d39facfa",
   "metadata": {},
   "source": [
    "### Additional class to store all settings for Alien Invasion"
   ]
  },
  {
   "cell_type": "code",
   "execution_count": null,
   "id": "58f111bb",
   "metadata": {},
   "outputs": [],
   "source": [
    "class Settings:\n",
    "    \"\"\"A class to store all settings for Alien Invasion.\"\"\"\n",
    "\n",
    "    def __init__(self):\n",
    "        \"\"\"Initialize the game's settings.\"\"\"\n",
    "        # Screen settings\n",
    "        self.screen_width = 1200\n",
    "        self.screen_height = 800 # change 800 to 600\n",
    "        self.bg_color = (230, 230, 230)"
   ]
  },
  {
   "cell_type": "markdown",
   "id": "97e05046",
   "metadata": {},
   "source": [
    "## Part II: Adding the ship image to the game project\n",
    "Note that picture of the ship is inside the folder images that you can downloadf from your google classroom folder.\n"
   ]
  },
  {
   "cell_type": "markdown",
   "id": "8b783457",
   "metadata": {},
   "source": [
    "### Updated main class Alien Invasion: "
   ]
  },
  {
   "cell_type": "code",
   "execution_count": 1,
   "id": "c2d38030",
   "metadata": {},
   "outputs": [
    {
     "name": "stdout",
     "output_type": "stream",
     "text": [
      "pygame 2.1.2 (SDL 2.0.18, Python 3.9.12)\n",
      "Hello from the pygame community. https://www.pygame.org/contribute.html\n"
     ]
    },
    {
     "ename": "SystemExit",
     "evalue": "",
     "output_type": "error",
     "traceback": [
      "An exception has occurred, use %tb to see the full traceback.\n",
      "\u001b[1;31mSystemExit\u001b[0m\n"
     ]
    },
    {
     "name": "stderr",
     "output_type": "stream",
     "text": [
      "C:\\ProgramData\\Anaconda3\\lib\\site-packages\\IPython\\core\\interactiveshell.py:3377: UserWarning: To exit: use 'exit', 'quit', or Ctrl-D.\n",
      "  warn(\"To exit: use 'exit', 'quit', or Ctrl-D.\", stacklevel=1)\n"
     ]
    }
   ],
   "source": [
    "import sys\n",
    "\n",
    "import pygame\n",
    "\n",
    "from settings import Settings\n",
    "from ship import Ship\n",
    "\n",
    "class AlienInvasion:\n",
    "    \"\"\"Overall class to manage game assets and behavior.\"\"\"\n",
    "\n",
    "    def __init__(self):\n",
    "        \"\"\"Initialize the game, and create game resources.\"\"\"\n",
    "        pygame.init()        \n",
    "        self.settings = Settings()\n",
    "\n",
    "        self.screen = pygame.display.set_mode(\n",
    "            (self.settings.screen_width, self.settings.screen_height))\n",
    "        pygame.display.set_caption(\"Alien Invasion\")\n",
    "\n",
    "        self.ship = Ship(self)\n",
    "\n",
    "\n",
    "    def run_game(self):\n",
    "        \"\"\"Start the main loop for the game.\"\"\"\n",
    "        while True:\n",
    "            # Watch for keyboard and mouse events.\n",
    "            for event in pygame.event.get():\n",
    "                if event.type == pygame.QUIT:\n",
    "                    sys.exit()\n",
    "\n",
    "            # Redraw the screen during each pass through the loop.\n",
    "            self.screen.fill(self.settings.bg_color)\n",
    "            self.ship.blitme()\n",
    "\n",
    "            # Make the most recently drawn screen visible.\n",
    "            pygame.display.flip()\n",
    "\n",
    "if __name__ == '__main__':\n",
    "    # Make a game instance, and run the game.\n",
    "    ai = AlienInvasion()\n",
    "    ai.run_game()\n"
   ]
  },
  {
   "cell_type": "markdown",
   "id": "9f25bc8b",
   "metadata": {},
   "source": [
    "## class Settings is unchanged"
   ]
  },
  {
   "cell_type": "code",
   "execution_count": null,
   "id": "30ea0049",
   "metadata": {},
   "outputs": [],
   "source": [
    "class Settings:\n",
    "    \"\"\"A class to store all settings for Alien Invasion.\"\"\"\n",
    "\n",
    "    def __init__(self):\n",
    "        \"\"\"Initialize the game's settings.\"\"\"\n",
    "        # Screen settings\n",
    "        self.screen_width = 1200\n",
    "        self.screen_height = 800\n",
    "        self.bg_color = (230, 230, 230)"
   ]
  },
  {
   "cell_type": "markdown",
   "id": "02b6c732",
   "metadata": {},
   "source": [
    "## A new class Ship is created to read and display the ship image "
   ]
  },
  {
   "cell_type": "code",
   "execution_count": null,
   "id": "9d9e86a5",
   "metadata": {},
   "outputs": [],
   "source": [
    "import pygame\n",
    " \n",
    "class Ship:\n",
    "    \"\"\"A class to manage the ship.\"\"\"\n",
    " \n",
    "    def __init__(self, ai_game):\n",
    "        \"\"\"Initialize the ship and set its starting position.\"\"\"\n",
    "        self.screen = ai_game.screen\n",
    "        self.screen_rect = ai_game.screen.get_rect()\n",
    "\n",
    "        # Load the ship image and get its rect.\n",
    "        self.image = pygame.image.load('images/ship.bmp')\n",
    "        self.rect = self.image.get_rect()\n",
    "\n",
    "        # Start each new ship at the bottom center of the screen.\n",
    "        self.rect.midbottom = self.screen_rect.midbottom\n",
    "\n",
    "    def blitme(self):\n",
    "        \"\"\"Draw the ship at its current location.\"\"\"\n",
    "        self.screen.blit(self.image, self.rect)\n"
   ]
  }
 ],
 "metadata": {
  "kernelspec": {
   "display_name": "Python 3 (ipykernel)",
   "language": "python",
   "name": "python3"
  },
  "language_info": {
   "codemirror_mode": {
    "name": "ipython",
    "version": 3
   },
   "file_extension": ".py",
   "mimetype": "text/x-python",
   "name": "python",
   "nbconvert_exporter": "python",
   "pygments_lexer": "ipython3",
   "version": "3.9.12"
  }
 },
 "nbformat": 4,
 "nbformat_minor": 5
}
